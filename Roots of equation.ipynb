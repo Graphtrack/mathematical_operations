{
 "cells": [
  {
   "cell_type": "code",
   "execution_count": 1,
   "metadata": {},
   "outputs": [],
   "source": [
    "import numpy as np"
   ]
  },
  {
   "cell_type": "code",
   "execution_count": 2,
   "metadata": {
    "tags": []
   },
   "outputs": [
    {
     "output_type": "stream",
     "name": "stdout",
     "text": "[ 1.61803399 -0.61803399]\n"
    }
   ],
   "source": [
    "'''\n",
    "For quadratic equations\n",
    "'''\n",
    "# x^2 - x -1 =0 so ceffients are 1,-1,-1\n",
    "coeff = [1, -1, -1]\n",
    "print(np.roots(coeff))"
   ]
  },
  {
   "cell_type": "code",
   "execution_count": 3,
   "metadata": {
    "tags": []
   },
   "outputs": [
    {
     "output_type": "stream",
     "name": "stdout",
     "text": "[ 1.         -1.00000001 -0.99999999]\n"
    }
   ],
   "source": [
    "'''\n",
    "For cubic equations\n",
    "'''\n",
    "# x^3 + x^2 - x -1 =0 so ceffients are 1, 1, -1, -1\n",
    "coeff = [1, 1, -1, -1]\n",
    "print(np.roots(coeff))"
   ]
  },
  {
   "cell_type": "code",
   "execution_count": null,
   "metadata": {},
   "outputs": [],
   "source": []
  }
 ],
 "metadata": {
  "kernelspec": {
   "display_name": "Python 3.8.5 64-bit ('dimpyiimr': conda)",
   "language": "python",
   "name": "python38564bitdimpyiimrcondac7a5ba354d3d4689b2bd8dfb29a82a06"
  }
 },
 "nbformat": 4,
 "nbformat_minor": 4
}